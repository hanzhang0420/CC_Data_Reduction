{
 "cells": [
  {
   "cell_type": "code",
   "execution_count": 185,
   "metadata": {
    "collapsed": true
   },
   "outputs": [],
   "source": [
    "import astroalign as aa\n",
    "from readimage import readimage\n",
    "import matplotlib.pyplot as plt\n",
    "from scipy import ndimage as snd\n",
    "import numpy as np\n",
    "from photutils import centroid_com, centroid_1dg, centroid_2dg\n",
    "import astroRMS\n",
    "from astropy.io import fits\n",
    "from astropy.stats import sigma_clipped_stats\n",
    "#from photutils import make_source_mask\n",
    "#from photutils import StdBackgroundRMS\n",
    "\n",
    "import cc_image_pol \n",
    "reload(cc_image_pol) # this is important since i find python does not update the package because it thinks it already reloaded it \n",
    "from cc_image_pol import *"
   ]
  },
  {
   "cell_type": "code",
   "execution_count": 80,
   "metadata": {},
   "outputs": [
    {
     "name": "stdout",
     "output_type": "stream",
     "text": [
      "Filename: /Users/hanzhang/Dropbox/YSO_model/0000681098-20140617-CANARICAM-Polarimetry.fits.gz\n",
      "No.    Name      Ver    Type      Cards   Dimensions   Format\n",
      "  0  PRIMARY       1 PrimaryHDU     264   ()      \n",
      "  1  Beam A of NodSet 1    1 ImageHDU        54   (320, 240, 2)   int32   \n",
      "  2  Beam A of NodSet 1    2 ImageHDU        43   (320, 240, 2)   int32   \n",
      "  3  Beam A of NodSet 1    3 ImageHDU        43   (320, 240, 2)   int32   \n",
      "  4  Beam A of NodSet 1    4 ImageHDU        43   (320, 240, 2)   int32   \n",
      "  5  Beam B of NodSet 1    5 ImageHDU        96   (320, 240, 2)   int32   \n",
      "  6  Beam B of NodSet 1    6 ImageHDU        43   (320, 240, 2)   int32   \n",
      "  7  Beam B of NodSet 1    7 ImageHDU        43   (320, 240, 2)   int32   \n",
      "  8  Beam B of NodSet 1    8 ImageHDU        43   (320, 240, 2)   int32   \n",
      "  9  Beam B of NodSet 2    9 ImageHDU        96   (320, 240, 2)   int32   \n",
      " 10  Beam B of NodSet 2   10 ImageHDU        43   (320, 240, 2)   int32   \n",
      " 11  Beam B of NodSet 2   11 ImageHDU        43   (320, 240, 2)   int32   \n",
      " 12  Beam B of NodSet 2   12 ImageHDU        43   (320, 240, 2)   int32   \n",
      " 13  Beam A of NodSet 2   13 ImageHDU        96   (320, 240, 2)   int32   \n",
      " 14  Beam A of NodSet 2   14 ImageHDU        43   (320, 240, 2)   int32   \n",
      " 15  Beam A of NodSet 2   15 ImageHDU        43   (320, 240, 2)   int32   \n",
      " 16  Beam A of NodSet 2   16 ImageHDU        43   (320, 240, 2)   int32   \n",
      " 17  Beam A of NodSet 3   17 ImageHDU        96   (320, 240, 2)   int32   \n",
      " 18  Beam A of NodSet 3   18 ImageHDU        43   (320, 240, 2)   int32   \n",
      " 19  Beam A of NodSet 3   19 ImageHDU        43   (320, 240, 2)   int32   \n",
      " 20  Beam A of NodSet 3   20 ImageHDU        43   (320, 240, 2)   int32   \n",
      " 21  Beam B of NodSet 3   21 ImageHDU        96   (320, 240, 2)   int32   \n",
      " 22  Beam B of NodSet 3   22 ImageHDU        43   (320, 240, 2)   int32   \n",
      " 23  Beam B of NodSet 3   23 ImageHDU        43   (320, 240, 2)   int32   \n",
      " 24  Beam B of NodSet 3   24 ImageHDU        43   (320, 240, 2)   int32   \n",
      " 25  Beam B of NodSet 4   25 ImageHDU        96   (320, 240, 2)   int32   \n",
      " 26  Beam B of NodSet 4   26 ImageHDU        43   (320, 240, 2)   int32   \n",
      " 27  Beam B of NodSet 4   27 ImageHDU        43   (320, 240, 2)   int32   \n",
      " 28  Beam B of NodSet 4   28 ImageHDU        43   (320, 240, 2)   int32   \n",
      " 29  Beam A of NodSet 4   29 ImageHDU        96   (320, 240, 2)   int32   \n",
      " 30  Beam A of NodSet 4   30 ImageHDU        43   (320, 240, 2)   int32   \n",
      " 31  Beam A of NodSet 4   31 ImageHDU        43   (320, 240, 2)   int32   \n",
      " 32  Beam A of NodSet 4   32 ImageHDU        43   (320, 240, 2)   int32   \n",
      " 33  Beam A of NodSet 5   33 ImageHDU        96   (320, 240, 2)   int32   \n",
      " 34  Beam A of NodSet 5   34 ImageHDU        43   (320, 240, 2)   int32   \n",
      " 35  Beam A of NodSet 5   35 ImageHDU        43   (320, 240, 2)   int32   \n",
      " 36  Beam A of NodSet 5   36 ImageHDU        43   (320, 240, 2)   int32   \n",
      " 37  Beam B of NodSet 5   37 ImageHDU        96   (320, 240, 2)   int32   \n",
      " 38  Beam B of NodSet 5   38 ImageHDU        43   (320, 240, 2)   int32   \n",
      " 39  Beam B of NodSet 5   39 ImageHDU        43   (320, 240, 2)   int32   \n",
      " 40  Beam B of NodSet 5   40 ImageHDU        43   (320, 240, 2)   int32   \n",
      " 41  Beam B of NodSet 6   41 ImageHDU        96   (320, 240, 2)   int32   \n",
      " 42  Beam B of NodSet 6   42 ImageHDU        43   (320, 240, 2)   int32   \n",
      " 43  Beam B of NodSet 6   43 ImageHDU        43   (320, 240, 2)   int32   \n",
      " 44  Beam B of NodSet 6   44 ImageHDU        43   (320, 240, 2)   int32   \n",
      " 45  Beam A of NodSet 6   45 ImageHDU        96   (320, 240, 2)   int32   \n",
      " 46  Beam A of NodSet 6   46 ImageHDU        43   (320, 240, 2)   int32   \n",
      " 47  Beam A of NodSet 6   47 ImageHDU        43   (320, 240, 2)   int32   \n",
      " 48  Beam A of NodSet 6   48 ImageHDU        43   (320, 240, 2)   int32   \n",
      " 49  Beam A of NodSet 7   49 ImageHDU        96   (320, 240, 2)   int32   \n",
      " 50  Beam A of NodSet 7   50 ImageHDU        43   (320, 240, 2)   int32   \n",
      " 51  Beam A of NodSet 7   51 ImageHDU        43   (320, 240, 2)   int32   \n",
      " 52  Beam A of NodSet 7   52 ImageHDU        43   (320, 240, 2)   int32   \n",
      " 53  Beam B of NodSet 7   53 ImageHDU        96   (320, 240, 2)   int32   \n",
      " 54  Beam B of NodSet 7   54 ImageHDU        43   (320, 240, 2)   int32   \n",
      " 55  Beam B of NodSet 7   55 ImageHDU        43   (320, 240, 2)   int32   \n",
      " 56  Beam B of NodSet 7   56 ImageHDU        43   (320, 240, 2)   int32   \n",
      " 57  Beam B of NodSet 8   57 ImageHDU        96   (320, 240, 2)   int32   \n",
      " 58  Beam B of NodSet 8   58 ImageHDU        43   (320, 240, 2)   int32   \n",
      " 59  Beam B of NodSet 8   59 ImageHDU        43   (320, 240, 2)   int32   \n",
      " 60  Beam B of NodSet 8   60 ImageHDU        43   (320, 240, 2)   int32   \n",
      " 61  Beam A of NodSet 8   61 ImageHDU        96   (320, 240, 2)   int32   \n",
      " 62  Beam A of NodSet 8   62 ImageHDU        43   (320, 240, 2)   int32   \n",
      " 63  Beam A of NodSet 8   63 ImageHDU        43   (320, 240, 2)   int32   \n",
      " 64  Beam A of NodSet 8   64 ImageHDU        43   (320, 240, 2)   int32   \n",
      "for each waveplate, the number of frames 16\n"
     ]
    }
   ],
   "source": [
    "file_path='/Users/hanzhang/Dropbox/YSO_model/'\n",
    "fits_file=file_path+'0000681098-20140617-CANARICAM-Polarimetry.fits.gz'\n",
    "image=readimage(fits_file)"
   ]
  },
  {
   "cell_type": "code",
   "execution_count": 81,
   "metadata": {},
   "outputs": [
    {
     "name": "stdout",
     "output_type": "stream",
     "text": [
      "O ray images\n",
      "center of the image 194.435736334 98.2934865199\n",
      "size of the cropped image (37, 241)\n",
      "center of the image 195.708603878 98.1613798478\n",
      "size of the cropped image (37, 241)\n",
      "center of the image 194.888184882 98.4111562827\n",
      "size of the cropped image (37, 241)\n",
      "center of the image 195.428465391 98.4341023685\n",
      "size of the cropped image (37, 241)\n",
      "E ray images\n",
      "center of the image 194.780874536 18.1796332804\n",
      "size of the cropped image (37, 241)\n",
      "center of the image 193.537227771 18.3466498921\n",
      "size of the cropped image (37, 241)\n",
      "center of the image 194.239502753 18.3831340315\n",
      "size of the cropped image (37, 241)\n",
      "center of the image 194.240602222 18.3346896477\n",
      "size of the cropped image (37, 241)\n"
     ]
    }
   ],
   "source": [
    "sizex=60; sizey1=8;sizey2=10\n",
    "o_ray,e_ray,noise = crop(image,sizex,sizey1,sizey2)"
   ]
  },
  {
   "cell_type": "code",
   "execution_count": 82,
   "metadata": {},
   "outputs": [
    {
     "name": "stdout",
     "output_type": "stream",
     "text": [
      "Detected subpixel offset (y, x): [ 0.  0.]\n",
      "Detected subpixel offset (y, x): [-0.03  1.98]\n",
      "Detected subpixel offset (y, x): [-0.02  0.95]\n",
      "Detected subpixel offset (y, x): [-0.06  0.86]\n",
      "Detected subpixel offset (y, x): [-4.69  1.08]\n",
      "Detected subpixel offset (y, x): [-4.78 -0.05]\n",
      "Detected subpixel offset (y, x): [-4.74 -0.03]\n",
      "Detected subpixel offset (y, x): [-4.86 -0.18]\n"
     ]
    }
   ],
   "source": [
    "ref=o_ray[0] ; o_ray_s=[] ; e_ray_s=[]\n",
    "for img in o_ray:\n",
    "    image_s=align(ref,img)\n",
    "    o_ray_s.append(image_s)\n",
    "\n",
    "for img in e_ray:\n",
    "    image_s=align(ref,img)\n",
    "    e_ray_s.append(image_s)"
   ]
  },
  {
   "cell_type": "code",
   "execution_count": 83,
   "metadata": {
    "collapsed": true,
    "scrolled": true
   },
   "outputs": [],
   "source": [
    "Q, U, I, err_I, err_Q, err_U = stokes(o_ray_s,e_ray_s,noise)"
   ]
  },
  {
   "cell_type": "code",
   "execution_count": 188,
   "metadata": {
    "scrolled": true
   },
   "outputs": [
    {
     "ename": "AttributeError",
     "evalue": "'tuple' object has no attribute 'shape'",
     "output_type": "error",
     "traceback": [
      "\u001b[0;31m---------------------------------------------------------------------------\u001b[0m",
      "\u001b[0;31mAttributeError\u001b[0m                            Traceback (most recent call last)",
      "\u001b[0;32m<ipython-input-188-6479d453fede>\u001b[0m in \u001b[0;36m<module>\u001b[0;34m()\u001b[0m\n\u001b[1;32m      1\u001b[0m \u001b[0;34m\u001b[0m\u001b[0m\n\u001b[1;32m      2\u001b[0m \u001b[0mrebin_U\u001b[0m\u001b[0;34m=\u001b[0m\u001b[0mrebin\u001b[0m\u001b[0;34m(\u001b[0m\u001b[0mU\u001b[0m\u001b[0;34m,\u001b[0m\u001b[0merr_U\u001b[0m\u001b[0;34m,\u001b[0m\u001b[0;36m3\u001b[0m\u001b[0;34m)\u001b[0m\u001b[0;34m\u001b[0m\u001b[0m\n\u001b[0;32m----> 3\u001b[0;31m \u001b[0mrebin_U\u001b[0m\u001b[0;34m.\u001b[0m\u001b[0mshape\u001b[0m\u001b[0;34m\u001b[0m\u001b[0m\n\u001b[0m\u001b[1;32m      4\u001b[0m \u001b[0;31m#plt.imshow(rebin_U)\u001b[0m\u001b[0;34m\u001b[0m\u001b[0;34m\u001b[0m\u001b[0m\n\u001b[1;32m      5\u001b[0m \u001b[0;31m#plt.show()\u001b[0m\u001b[0;34m\u001b[0m\u001b[0;34m\u001b[0m\u001b[0m\n",
      "\u001b[0;31mAttributeError\u001b[0m: 'tuple' object has no attribute 'shape'"
     ]
    }
   ],
   "source": [
    "\n",
    "rebin_U=rebin(U,err_U,3)\n",
    "rebin_U.shape\n",
    "#plt.imshow(rebin_U)\n",
    "#plt.show()"
   ]
  },
  {
   "cell_type": "code",
   "execution_count": 182,
   "metadata": {},
   "outputs": [
    {
     "name": "stdout",
     "output_type": "stream",
     "text": [
      "28.8813844547\n"
     ]
    }
   ],
   "source": [
    "n=3;array=U\n",
    "narray=array.shape ; c_loc=np.array([int(narray[0]/2.0), int(narray[1]/2.0)])\n",
    "m=np.array([int(narray[0]/n),int(narray[1]/n)])\n",
    "bin=(m-1)/2 ; index_start=(c_loc-1)-bin*n; index_end=(c_loc+1)+bin*n\n",
    "rebin_array=np.reshape(array[index_start[0]:index_end[0]+1,index_start[1]:index_end[1]+1],\\\n",
    "                   ((2*bin[0]+1),n,(2*bin[1]+1),n))\n",
    "\n",
    "rebin_array = np.mean(rebin_array,axis=3)\n",
    "rebin_array = np.mean(rebin_array,axis=1)\n",
    "a=rebin_array.repeat(3, axis=0).repeat(3, axis=1)\n",
    "a.shape\n",
    "a=np.pad(rebin_array,(3,3),mode='constant',constant_values=(np.nan))\n",
    "\n",
    "print a[4,5]\n"
   ]
  },
  {
   "cell_type": "code",
   "execution_count": null,
   "metadata": {
    "collapsed": true
   },
   "outputs": [],
   "source": [
    "\n"
   ]
  },
  {
   "cell_type": "code",
   "execution_count": null,
   "metadata": {
    "collapsed": true
   },
   "outputs": [],
   "source": []
  },
  {
   "cell_type": "code",
   "execution_count": null,
   "metadata": {
    "collapsed": true
   },
   "outputs": [],
   "source": []
  },
  {
   "cell_type": "code",
   "execution_count": null,
   "metadata": {
    "collapsed": true
   },
   "outputs": [],
   "source": []
  }
 ],
 "metadata": {
  "kernelspec": {
   "display_name": "Python 2",
   "language": "python",
   "name": "python2"
  },
  "language_info": {
   "codemirror_mode": {
    "name": "ipython",
    "version": 2
   },
   "file_extension": ".py",
   "mimetype": "text/x-python",
   "name": "python",
   "nbconvert_exporter": "python",
   "pygments_lexer": "ipython2",
   "version": "2.7.13"
  }
 },
 "nbformat": 4,
 "nbformat_minor": 2
}

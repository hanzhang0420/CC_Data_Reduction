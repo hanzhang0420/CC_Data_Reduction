{
 "cells": [
  {
   "cell_type": "code",
   "execution_count": 158,
   "metadata": {},
   "outputs": [],
   "source": [
    "'''try to use the same algrothm to explore the polarimetry data'''\n",
    "from astropy.io import fits \n",
    "import matplotlib\n",
    "import matplotlib.pyplot as plt\n",
    "import numpy as np\n",
    "file_path = '/scratch/hanzhang/YSO_CC/GTC7-14AGCAN/OB0001/object/'\n",
    "fits_file = file_path + '0000681098-20140617-CANARICAM-Polarimetry.fits.gz'"
   ]
  },
  {
   "cell_type": "code",
   "execution_count": 159,
   "metadata": {},
   "outputs": [],
   "source": [
    "def readimage(fits_file):\n",
    "    image=fits.open(fits_file)\n",
    "    image.info()   # gives extensions \n",
    "    nsave=image[0].header['NSAVSETS']\n",
    "    nnods=image[0].header['NNODS']\n",
    "    nnodsets=image[0].header['NNODSETS']#nod A or B different subtraction order  four different waveplate angles                                          \n",
    "\n",
    "    image_p1=[] ; image_p2=[] ; image_p3=[] ; image_p4=[]  #initial defite four list; list can contain various data types\n",
    "\n",
    "    for i in range(1,nsave*nnods*nnodsets):\n",
    "        if image[i].header['NOD'] == 'A':\n",
    "            fir=0 ; sec=1\n",
    "        elif image[i].header['NOD'] == 'B':\n",
    "            fir=1 ; sec=0\n",
    "        wplate=image[i].header['WPLATE']\n",
    "        if wplate==float(0.0):\n",
    "            image_p1.append(image[i].data[fir,:,:]-image[i].data[sec,:,:])\n",
    "        elif wplate==float(45.0):    \n",
    "            image_p2.append(image[i].data[fir,:,:]-image[i].data[sec,:,:])\n",
    "        elif wplate==float(22.5):\n",
    "            image_p3.append(image[i].data[fir,:,:]-image[i].data[sec,:,:])\n",
    "        elif wplate==float(67.5):\n",
    "            image_p4.append(image[i].data[fir,:,:]-image[i].data[sec,:,:])\n",
    "\n",
    "    print 'for each waveplate, the number of frames', len(image_p1)#image_p1 is a list. len() returns the items in the list \n",
    "\n",
    "    image_r=[]\n",
    "    image_r.append(np.mean(image_p1,axis=0))\n",
    "    image_r.append(np.mean(image_p2,axis=0))\n",
    "    image_r.append(np.mean(image_p3,axis=0))\n",
    "    image_r.append(np.mean(image_p4,axis=0))\n",
    "\n",
    "    return image_r"
   ]
  },
  {
   "cell_type": "code",
   "execution_count": null,
   "metadata": {
    "collapsed": true
   },
   "outputs": [],
   "source": []
  }
 ],
 "metadata": {
  "kernelspec": {
   "display_name": "Python 2",
   "language": "python",
   "name": "python2"
  },
  "language_info": {
   "codemirror_mode": {
    "name": "ipython",
    "version": 2
   },
   "file_extension": ".py",
   "mimetype": "text/x-python",
   "name": "python",
   "nbconvert_exporter": "python",
   "pygments_lexer": "ipython2",
   "version": "2.7.13"
  }
 },
 "nbformat": 4,
 "nbformat_minor": 2
}
